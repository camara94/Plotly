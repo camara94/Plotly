{
 "cells": [
  {
   "cell_type": "markdown",
   "metadata": {},
   "source": [
    "# Multi Line Chart Plot"
   ]
  },
  {
   "cell_type": "code",
   "execution_count": 1,
   "metadata": {},
   "outputs": [],
   "source": [
    "%matplotlib inline"
   ]
  },
  {
   "cell_type": "code",
   "execution_count": 2,
   "metadata": {},
   "outputs": [],
   "source": [
    "import plotly.offline as pyo\n",
    "import plotly.graph_objects as go\n",
    "import seaborn as sns\n",
    "import matplotlib.pyplot as plt\n",
    "import pandas as pd\n",
    "import numpy as np\n",
    "plt.style.use('ggplot')"
   ]
  },
  {
   "cell_type": "code",
   "execution_count": 3,
   "metadata": {},
   "outputs": [
    {
     "data": {
      "text/html": [
       "<div>\n",
       "<style scoped>\n",
       "    .dataframe tbody tr th:only-of-type {\n",
       "        vertical-align: middle;\n",
       "    }\n",
       "\n",
       "    .dataframe tbody tr th {\n",
       "        vertical-align: top;\n",
       "    }\n",
       "\n",
       "    .dataframe thead th {\n",
       "        text-align: right;\n",
       "    }\n",
       "</style>\n",
       "<table border=\"1\" class=\"dataframe\">\n",
       "  <thead>\n",
       "    <tr style=\"text-align: right;\">\n",
       "      <th></th>\n",
       "      <th>open</th>\n",
       "      <th>high</th>\n",
       "      <th>low</th>\n",
       "      <th>close</th>\n",
       "      <th>volume</th>\n",
       "    </tr>\n",
       "    <tr>\n",
       "      <th>date</th>\n",
       "      <th></th>\n",
       "      <th></th>\n",
       "      <th></th>\n",
       "      <th></th>\n",
       "      <th></th>\n",
       "    </tr>\n",
       "  </thead>\n",
       "  <tbody>\n",
       "    <tr>\n",
       "      <th>2014-09-17</th>\n",
       "      <td>465.864014</td>\n",
       "      <td>468.174011</td>\n",
       "      <td>452.421997</td>\n",
       "      <td>457.334015</td>\n",
       "      <td>21056800.0</td>\n",
       "    </tr>\n",
       "    <tr>\n",
       "      <th>2014-09-18</th>\n",
       "      <td>456.859985</td>\n",
       "      <td>456.859985</td>\n",
       "      <td>413.104004</td>\n",
       "      <td>424.440002</td>\n",
       "      <td>34483200.0</td>\n",
       "    </tr>\n",
       "    <tr>\n",
       "      <th>2014-09-19</th>\n",
       "      <td>424.102997</td>\n",
       "      <td>427.834991</td>\n",
       "      <td>384.532013</td>\n",
       "      <td>394.795990</td>\n",
       "      <td>37919700.0</td>\n",
       "    </tr>\n",
       "    <tr>\n",
       "      <th>2014-09-20</th>\n",
       "      <td>394.673004</td>\n",
       "      <td>423.295990</td>\n",
       "      <td>389.882996</td>\n",
       "      <td>408.903992</td>\n",
       "      <td>36863600.0</td>\n",
       "    </tr>\n",
       "    <tr>\n",
       "      <th>2014-09-21</th>\n",
       "      <td>408.084991</td>\n",
       "      <td>412.425995</td>\n",
       "      <td>393.181000</td>\n",
       "      <td>398.821014</td>\n",
       "      <td>26580100.0</td>\n",
       "    </tr>\n",
       "  </tbody>\n",
       "</table>\n",
       "</div>"
      ],
      "text/plain": [
       "                  open        high         low       close      volume\n",
       "date                                                                  \n",
       "2014-09-17  465.864014  468.174011  452.421997  457.334015  21056800.0\n",
       "2014-09-18  456.859985  456.859985  413.104004  424.440002  34483200.0\n",
       "2014-09-19  424.102997  427.834991  384.532013  394.795990  37919700.0\n",
       "2014-09-20  394.673004  423.295990  389.882996  408.903992  36863600.0\n",
       "2014-09-21  408.084991  412.425995  393.181000  398.821014  26580100.0"
      ]
     },
     "execution_count": 3,
     "metadata": {},
     "output_type": "execute_result"
    }
   ],
   "source": [
    "bitcoin = pd.read_csv('data/bitcoin-usd.csv', parse_dates=['date'], index_col='date')\n",
    "bitcoin.head()"
   ]
  },
  {
   "cell_type": "code",
   "execution_count": 17,
   "metadata": {},
   "outputs": [
    {
     "data": {
      "text/plain": [
       "'2014'"
      ]
     },
     "execution_count": 17,
     "metadata": {},
     "output_type": "execute_result"
    }
   ],
   "source": [
    "bitcoin.index[0].strftime(\"%Y\")"
   ]
  },
  {
   "cell_type": "code",
   "execution_count": 19,
   "metadata": {},
   "outputs": [],
   "source": [
    "get_year = lambda date: date.strftime(\"%Y\")"
   ]
  },
  {
   "cell_type": "code",
   "execution_count": 23,
   "metadata": {},
   "outputs": [
    {
     "data": {
      "text/plain": [
       "'2016'"
      ]
     },
     "execution_count": 23,
     "metadata": {},
     "output_type": "execute_result"
    }
   ],
   "source": [
    "get_year(bitcoin.index[500])"
   ]
  },
  {
   "cell_type": "code",
   "execution_count": 37,
   "metadata": {},
   "outputs": [],
   "source": [
    "years =  []\n",
    "[\n",
    "    years.append(get_year(year))\n",
    "    for year \n",
    "    in \n",
    "    bitcoin.index\n",
    "];"
   ]
  },
  {
   "cell_type": "code",
   "execution_count": 38,
   "metadata": {},
   "outputs": [
    {
     "data": {
      "text/plain": [
       "2619"
      ]
     },
     "execution_count": 38,
     "metadata": {},
     "output_type": "execute_result"
    }
   ],
   "source": [
    "len(years)"
   ]
  },
  {
   "cell_type": "code",
   "execution_count": 39,
   "metadata": {},
   "outputs": [],
   "source": [
    "bitcoin['year']=years"
   ]
  },
  {
   "cell_type": "code",
   "execution_count": 136,
   "metadata": {},
   "outputs": [],
   "source": [
    "ag = bitcoin.groupby('year').agg(['mean', 'std'])"
   ]
  },
  {
   "cell_type": "code",
   "execution_count": 137,
   "metadata": {},
   "outputs": [
    {
     "data": {
      "text/html": [
       "<div>\n",
       "<style scoped>\n",
       "    .dataframe tbody tr th:only-of-type {\n",
       "        vertical-align: middle;\n",
       "    }\n",
       "\n",
       "    .dataframe tbody tr th {\n",
       "        vertical-align: top;\n",
       "    }\n",
       "\n",
       "    .dataframe thead tr th {\n",
       "        text-align: left;\n",
       "    }\n",
       "\n",
       "    .dataframe thead tr:last-of-type th {\n",
       "        text-align: right;\n",
       "    }\n",
       "</style>\n",
       "<table border=\"1\" class=\"dataframe\">\n",
       "  <thead>\n",
       "    <tr>\n",
       "      <th></th>\n",
       "      <th colspan=\"2\" halign=\"left\">open</th>\n",
       "      <th colspan=\"2\" halign=\"left\">high</th>\n",
       "      <th colspan=\"2\" halign=\"left\">low</th>\n",
       "      <th colspan=\"2\" halign=\"left\">close</th>\n",
       "      <th colspan=\"2\" halign=\"left\">volume</th>\n",
       "    </tr>\n",
       "    <tr>\n",
       "      <th></th>\n",
       "      <th>mean</th>\n",
       "      <th>std</th>\n",
       "      <th>mean</th>\n",
       "      <th>std</th>\n",
       "      <th>mean</th>\n",
       "      <th>std</th>\n",
       "      <th>mean</th>\n",
       "      <th>std</th>\n",
       "      <th>mean</th>\n",
       "      <th>std</th>\n",
       "    </tr>\n",
       "    <tr>\n",
       "      <th>year</th>\n",
       "      <th></th>\n",
       "      <th></th>\n",
       "      <th></th>\n",
       "      <th></th>\n",
       "      <th></th>\n",
       "      <th></th>\n",
       "      <th></th>\n",
       "      <th></th>\n",
       "      <th></th>\n",
       "      <th></th>\n",
       "    </tr>\n",
       "  </thead>\n",
       "  <tbody>\n",
       "    <tr>\n",
       "      <th>2014</th>\n",
       "      <td>365.058217</td>\n",
       "      <td>31.818564</td>\n",
       "      <td>373.265397</td>\n",
       "      <td>32.940094</td>\n",
       "      <td>355.903726</td>\n",
       "      <td>29.587143</td>\n",
       "      <td>363.693085</td>\n",
       "      <td>30.521741</td>\n",
       "      <td>2.383690e+07</td>\n",
       "      <td>1.497901e+07</td>\n",
       "    </tr>\n",
       "    <tr>\n",
       "      <th>2015</th>\n",
       "      <td>272.149011</td>\n",
       "      <td>58.736787</td>\n",
       "      <td>278.151978</td>\n",
       "      <td>61.344046</td>\n",
       "      <td>266.807891</td>\n",
       "      <td>56.767289</td>\n",
       "      <td>272.453381</td>\n",
       "      <td>59.337860</td>\n",
       "      <td>3.390557e+07</td>\n",
       "      <td>2.710299e+07</td>\n",
       "    </tr>\n",
       "    <tr>\n",
       "      <th>2016</th>\n",
       "      <td>567.141429</td>\n",
       "      <td>137.909459</td>\n",
       "      <td>574.302273</td>\n",
       "      <td>140.461699</td>\n",
       "      <td>560.453374</td>\n",
       "      <td>135.860573</td>\n",
       "      <td>568.492407</td>\n",
       "      <td>139.255734</td>\n",
       "      <td>8.592451e+07</td>\n",
       "      <td>5.034484e+07</td>\n",
       "    </tr>\n",
       "    <tr>\n",
       "      <th>2017</th>\n",
       "      <td>3970.644848</td>\n",
       "      <td>4022.608833</td>\n",
       "      <td>4144.687445</td>\n",
       "      <td>4252.932093</td>\n",
       "      <td>3811.707792</td>\n",
       "      <td>3773.187657</td>\n",
       "      <td>4006.033629</td>\n",
       "      <td>4053.192202</td>\n",
       "      <td>2.382867e+09</td>\n",
       "      <td>3.786476e+09</td>\n",
       "    </tr>\n",
       "    <tr>\n",
       "      <th>2018</th>\n",
       "      <td>7601.018680</td>\n",
       "      <td>2469.977689</td>\n",
       "      <td>7787.978969</td>\n",
       "      <td>2578.010416</td>\n",
       "      <td>7350.747939</td>\n",
       "      <td>2296.187631</td>\n",
       "      <td>7572.298947</td>\n",
       "      <td>2455.455466</td>\n",
       "      <td>6.063552e+09</td>\n",
       "      <td>3.085421e+09</td>\n",
       "    </tr>\n",
       "    <tr>\n",
       "      <th>2019</th>\n",
       "      <td>7385.218456</td>\n",
       "      <td>2645.219348</td>\n",
       "      <td>7549.907409</td>\n",
       "      <td>2733.163682</td>\n",
       "      <td>7222.602868</td>\n",
       "      <td>2538.099492</td>\n",
       "      <td>7395.246282</td>\n",
       "      <td>2638.635051</td>\n",
       "      <td>1.673049e+10</td>\n",
       "      <td>7.469125e+09</td>\n",
       "    </tr>\n",
       "    <tr>\n",
       "      <th>2020</th>\n",
       "      <td>11065.855235</td>\n",
       "      <td>4225.036360</td>\n",
       "      <td>11314.931724</td>\n",
       "      <td>4386.650944</td>\n",
       "      <td>10853.252084</td>\n",
       "      <td>4141.862739</td>\n",
       "      <td>11125.798836</td>\n",
       "      <td>4324.352792</td>\n",
       "      <td>3.195863e+10</td>\n",
       "      <td>1.142024e+10</td>\n",
       "    </tr>\n",
       "    <tr>\n",
       "      <th>2021</th>\n",
       "      <td>46773.647275</td>\n",
       "      <td>10205.645310</td>\n",
       "      <td>48181.439222</td>\n",
       "      <td>10264.876711</td>\n",
       "      <td>45229.020955</td>\n",
       "      <td>10182.078160</td>\n",
       "      <td>46866.243246</td>\n",
       "      <td>10195.459666</td>\n",
       "      <td>4.924952e+10</td>\n",
       "      <td>2.555962e+10</td>\n",
       "    </tr>\n",
       "  </tbody>\n",
       "</table>\n",
       "</div>"
      ],
      "text/plain": [
       "              open                        high                         low  \\\n",
       "              mean           std          mean           std          mean   \n",
       "year                                                                         \n",
       "2014    365.058217     31.818564    373.265397     32.940094    355.903726   \n",
       "2015    272.149011     58.736787    278.151978     61.344046    266.807891   \n",
       "2016    567.141429    137.909459    574.302273    140.461699    560.453374   \n",
       "2017   3970.644848   4022.608833   4144.687445   4252.932093   3811.707792   \n",
       "2018   7601.018680   2469.977689   7787.978969   2578.010416   7350.747939   \n",
       "2019   7385.218456   2645.219348   7549.907409   2733.163682   7222.602868   \n",
       "2020  11065.855235   4225.036360  11314.931724   4386.650944  10853.252084   \n",
       "2021  46773.647275  10205.645310  48181.439222  10264.876711  45229.020955   \n",
       "\n",
       "                           close                      volume                \n",
       "               std          mean           std          mean           std  \n",
       "year                                                                        \n",
       "2014     29.587143    363.693085     30.521741  2.383690e+07  1.497901e+07  \n",
       "2015     56.767289    272.453381     59.337860  3.390557e+07  2.710299e+07  \n",
       "2016    135.860573    568.492407    139.255734  8.592451e+07  5.034484e+07  \n",
       "2017   3773.187657   4006.033629   4053.192202  2.382867e+09  3.786476e+09  \n",
       "2018   2296.187631   7572.298947   2455.455466  6.063552e+09  3.085421e+09  \n",
       "2019   2538.099492   7395.246282   2638.635051  1.673049e+10  7.469125e+09  \n",
       "2020   4141.862739  11125.798836   4324.352792  3.195863e+10  1.142024e+10  \n",
       "2021  10182.078160  46866.243246  10195.459666  4.924952e+10  2.555962e+10  "
      ]
     },
     "execution_count": 137,
     "metadata": {},
     "output_type": "execute_result"
    }
   ],
   "source": [
    "ag"
   ]
  },
  {
   "cell_type": "code",
   "execution_count": 174,
   "metadata": {},
   "outputs": [],
   "source": [
    "data = [\n",
    "    go.Scatter(\n",
    "        x = ag.index,\n",
    "        y = ag['volume'][col],\n",
    "        name=col,\n",
    "        marker=dict(\n",
    "          size=10,\n",
    "          symbol=100\n",
    "        )\n",
    "    ) for col in ag['volume'].columns\n",
    "]"
   ]
  },
  {
   "cell_type": "code",
   "execution_count": 175,
   "metadata": {},
   "outputs": [],
   "source": [
    "layout = go.Layout(title='Mean')"
   ]
  },
  {
   "cell_type": "code",
   "execution_count": 176,
   "metadata": {},
   "outputs": [],
   "source": [
    "fig = go.Figure(data=data, layout=layout)"
   ]
  },
  {
   "cell_type": "code",
   "execution_count": 177,
   "metadata": {},
   "outputs": [
    {
     "data": {
      "text/plain": [
       "'temp-plot.html'"
      ]
     },
     "execution_count": 177,
     "metadata": {},
     "output_type": "execute_result"
    }
   ],
   "source": [
    "pyo.plot(fig)"
   ]
  },
  {
   "cell_type": "code",
   "execution_count": 173,
   "metadata": {},
   "outputs": [
    {
     "data": {
      "text/plain": [
       "Index(['2014', '2015', '2016', '2017', '2018', '2019', '2020', '2021'], dtype='object', name='year')"
      ]
     },
     "execution_count": 173,
     "metadata": {},
     "output_type": "execute_result"
    }
   ],
   "source": [
    "ag.index"
   ]
  },
  {
   "cell_type": "code",
   "execution_count": 125,
   "metadata": {},
   "outputs": [
    {
     "data": {
      "text/html": [
       "<div>\n",
       "<style scoped>\n",
       "    .dataframe tbody tr th:only-of-type {\n",
       "        vertical-align: middle;\n",
       "    }\n",
       "\n",
       "    .dataframe tbody tr th {\n",
       "        vertical-align: top;\n",
       "    }\n",
       "\n",
       "    .dataframe thead th {\n",
       "        text-align: right;\n",
       "    }\n",
       "</style>\n",
       "<table border=\"1\" class=\"dataframe\">\n",
       "  <thead>\n",
       "    <tr style=\"text-align: right;\">\n",
       "      <th></th>\n",
       "      <th>mean</th>\n",
       "      <th>count</th>\n",
       "      <th>std</th>\n",
       "    </tr>\n",
       "    <tr>\n",
       "      <th>year</th>\n",
       "      <th></th>\n",
       "      <th></th>\n",
       "      <th></th>\n",
       "    </tr>\n",
       "  </thead>\n",
       "  <tbody>\n",
       "    <tr>\n",
       "      <th>2014</th>\n",
       "      <td>363.693085</td>\n",
       "      <td>106</td>\n",
       "      <td>30.521741</td>\n",
       "    </tr>\n",
       "    <tr>\n",
       "      <th>2015</th>\n",
       "      <td>272.453381</td>\n",
       "      <td>365</td>\n",
       "      <td>59.337860</td>\n",
       "    </tr>\n",
       "    <tr>\n",
       "      <th>2016</th>\n",
       "      <td>568.492407</td>\n",
       "      <td>366</td>\n",
       "      <td>139.255734</td>\n",
       "    </tr>\n",
       "    <tr>\n",
       "      <th>2017</th>\n",
       "      <td>4006.033629</td>\n",
       "      <td>365</td>\n",
       "      <td>4053.192202</td>\n",
       "    </tr>\n",
       "    <tr>\n",
       "      <th>2018</th>\n",
       "      <td>7572.298947</td>\n",
       "      <td>365</td>\n",
       "      <td>2455.455466</td>\n",
       "    </tr>\n",
       "    <tr>\n",
       "      <th>2019</th>\n",
       "      <td>7395.246282</td>\n",
       "      <td>365</td>\n",
       "      <td>2638.635051</td>\n",
       "    </tr>\n",
       "    <tr>\n",
       "      <th>2020</th>\n",
       "      <td>11125.798836</td>\n",
       "      <td>362</td>\n",
       "      <td>4324.352792</td>\n",
       "    </tr>\n",
       "    <tr>\n",
       "      <th>2021</th>\n",
       "      <td>46866.243246</td>\n",
       "      <td>321</td>\n",
       "      <td>10195.459666</td>\n",
       "    </tr>\n",
       "  </tbody>\n",
       "</table>\n",
       "</div>"
      ],
      "text/plain": [
       "              mean  count           std\n",
       "year                                   \n",
       "2014    363.693085    106     30.521741\n",
       "2015    272.453381    365     59.337860\n",
       "2016    568.492407    366    139.255734\n",
       "2017   4006.033629    365   4053.192202\n",
       "2018   7572.298947    365   2455.455466\n",
       "2019   7395.246282    365   2638.635051\n",
       "2020  11125.798836    362   4324.352792\n",
       "2021  46866.243246    321  10195.459666"
      ]
     },
     "execution_count": 125,
     "metadata": {},
     "output_type": "execute_result"
    }
   ],
   "source": [
    "ag['close']"
   ]
  },
  {
   "cell_type": "code",
   "execution_count": 106,
   "metadata": {},
   "outputs": [
    {
     "data": {
      "text/plain": [
       "[('open', 'mean'),\n",
       " ('open', 'count'),\n",
       " ('open', 'std'),\n",
       " ('high', 'mean'),\n",
       " ('high', 'count'),\n",
       " ('high', 'std'),\n",
       " ('low', 'mean'),\n",
       " ('low', 'count'),\n",
       " ('low', 'std'),\n",
       " ('close', 'mean'),\n",
       " ('close', 'count'),\n",
       " ('close', 'std'),\n",
       " ('volume', 'mean'),\n",
       " ('volume', 'count'),\n",
       " ('volume', 'std')]"
      ]
     },
     "execution_count": 106,
     "metadata": {},
     "output_type": "execute_result"
    }
   ],
   "source": [
    "[col1 for col1 in ag.columns]"
   ]
  },
  {
   "cell_type": "code",
   "execution_count": 129,
   "metadata": {},
   "outputs": [
    {
     "data": {
      "text/plain": [
       "Index(['mean', 'count', 'std'], dtype='object')"
      ]
     },
     "execution_count": 129,
     "metadata": {},
     "output_type": "execute_result"
    }
   ],
   "source": [
    "ag['close'].columns"
   ]
  },
  {
   "cell_type": "code",
   "execution_count": null,
   "metadata": {},
   "outputs": [],
   "source": []
  }
 ],
 "metadata": {
  "kernelspec": {
   "display_name": "Python 3",
   "language": "python",
   "name": "python3"
  },
  "language_info": {
   "codemirror_mode": {
    "name": "ipython",
    "version": 3
   },
   "file_extension": ".py",
   "mimetype": "text/x-python",
   "name": "python",
   "nbconvert_exporter": "python",
   "pygments_lexer": "ipython3",
   "version": "3.8.5"
  }
 },
 "nbformat": 4,
 "nbformat_minor": 2
}
